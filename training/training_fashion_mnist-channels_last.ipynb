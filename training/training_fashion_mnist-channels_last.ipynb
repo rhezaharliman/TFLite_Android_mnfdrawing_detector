{
 "cells": [
  {
   "cell_type": "markdown",
   "metadata": {
    "colab_type": "text",
    "id": "DwQbjxPALXe0"
   },
   "source": [
    "# Training Phase\n",
    "\n",
    "We are going to use [tf.keras](https://www.tensorflow.org/guide/keras). tf.keras is a high-level API to build and train models in Tensorflow."
   ]
  },
  {
   "cell_type": "code",
   "execution_count": 1,
   "metadata": {
    "ExecuteTime": {
     "end_time": "2018-12-23T17:03:51.533255Z",
     "start_time": "2018-12-23T17:03:50.088259Z"
    },
    "colab": {
     "base_uri": "https://localhost:8080/",
     "height": 34
    },
    "colab_type": "code",
    "executionInfo": {
     "elapsed": 1452,
     "status": "ok",
     "timestamp": 1545486655837,
     "user": {
      "displayName": "Rheza Harliman",
      "photoUrl": "https://lh3.googleusercontent.com/-yOZuh0Bgl60/AAAAAAAAAAI/AAAAAAAAASU/VLuOVThaiNk/s64/photo.jpg",
      "userId": "13148716169817071942"
     },
     "user_tz": -540
    },
    "id": "DHqKVK48LXe3",
    "outputId": "08bcc327-2bff-4afc-b0c5-93d91f02cb05"
   },
   "outputs": [
    {
     "name": "stderr",
     "output_type": "stream",
     "text": [
      "c:\\users\\rheza harliman\\appdata\\local\\programs\\python\\python36\\lib\\site-packages\\h5py\\__init__.py:36: FutureWarning: Conversion of the second argument of issubdtype from `float` to `np.floating` is deprecated. In future, it will be treated as `np.float64 == np.dtype(float).type`.\n",
      "  from ._conv import register_converters as _register_converters\n"
     ]
    },
    {
     "name": "stdout",
     "output_type": "stream",
     "text": [
      "1.12.0\n"
     ]
    }
   ],
   "source": [
    "# TensorFlow and tf.keras\n",
    "import tensorflow as tf\n",
    "from tensorflow import keras\n",
    "\n",
    "# Helper libraries\n",
    "import numpy as np\n",
    "import matplotlib.pyplot as plt\n",
    "\n",
    "print(tf.__version__)"
   ]
  },
  {
   "cell_type": "code",
   "execution_count": 2,
   "metadata": {
    "ExecuteTime": {
     "end_time": "2018-12-23T17:03:51.828369Z",
     "start_time": "2018-12-23T17:03:51.534257Z"
    },
    "colab": {
     "base_uri": "https://localhost:8080/",
     "height": 173
    },
    "colab_type": "code",
    "executionInfo": {
     "elapsed": 2595,
     "status": "ok",
     "timestamp": 1545486656990,
     "user": {
      "displayName": "Rheza Harliman",
      "photoUrl": "https://lh3.googleusercontent.com/-yOZuh0Bgl60/AAAAAAAAAAI/AAAAAAAAASU/VLuOVThaiNk/s64/photo.jpg",
      "userId": "13148716169817071942"
     },
     "user_tz": -540
    },
    "id": "-_r8WkX7LXe-",
    "outputId": "d44ebf5e-ab50-4cdb-ba06-6e39914c6ebb"
   },
   "outputs": [],
   "source": [
    "fashion_mnist = keras.datasets.fashion_mnist\n",
    "\n",
    "(train_images, train_labels), (test_images, test_labels) = fashion_mnist.load_data()"
   ]
  },
  {
   "cell_type": "code",
   "execution_count": 3,
   "metadata": {
    "ExecuteTime": {
     "end_time": "2018-12-23T17:03:51.833256Z",
     "start_time": "2018-12-23T17:03:51.829257Z"
    },
    "colab": {},
    "colab_type": "code",
    "id": "V0RHjFGALXfB"
   },
   "outputs": [],
   "source": [
    "class_names = ['T-shirt/top', 'Trouser', 'Pullover', 'Dress', 'Coat', \n",
    "               'Sandal', 'Shirt', 'Sneaker', 'Bag', 'Ankle boot']"
   ]
  },
  {
   "cell_type": "code",
   "execution_count": 4,
   "metadata": {
    "ExecuteTime": {
     "end_time": "2018-12-23T17:03:51.843370Z",
     "start_time": "2018-12-23T17:03:51.834266Z"
    },
    "colab": {},
    "colab_type": "code",
    "id": "uIYTnZyALXfI"
   },
   "outputs": [],
   "source": [
    "num_classes = 10\n",
    "\n",
    "# input image dimensions\n",
    "img_rows, img_cols = 28, 28"
   ]
  },
  {
   "cell_type": "code",
   "execution_count": 5,
   "metadata": {
    "ExecuteTime": {
     "end_time": "2018-12-23T17:03:51.988255Z",
     "start_time": "2018-12-23T17:03:51.844255Z"
    },
    "colab": {
     "base_uri": "https://localhost:8080/",
     "height": 265
    },
    "colab_type": "code",
    "executionInfo": {
     "elapsed": 2741,
     "status": "ok",
     "timestamp": 1545486657169,
     "user": {
      "displayName": "Rheza Harliman",
      "photoUrl": "https://lh3.googleusercontent.com/-yOZuh0Bgl60/AAAAAAAAAAI/AAAAAAAAASU/VLuOVThaiNk/s64/photo.jpg",
      "userId": "13148716169817071942"
     },
     "user_tz": -540
    },
    "id": "ypczhNYiLXfM",
    "outputId": "beb1baf6-1100-4ae6-f40e-7553dbcb9b3c"
   },
   "outputs": [
    {
     "data": {
      "image/png": "[encoded data removed]",
      "text/plain": [
       "<Figure size 432x288 with 2 Axes>"
      ]
     },
     "metadata": {},
     "output_type": "display_data"
    }
   ],
   "source": [
    "%matplotlib inline\n",
    "\n",
    "plt.figure()\n",
    "plt.imshow(train_images[0])\n",
    "plt.colorbar()\n",
    "plt.grid(False)"
   ]
  },
  {
   "cell_type": "code",
   "execution_count": 6,
   "metadata": {
    "ExecuteTime": {
     "end_time": "2018-12-23T17:03:52.161368Z",
     "start_time": "2018-12-23T17:03:51.989259Z"
    },
    "colab": {},
    "colab_type": "code",
    "id": "c-GZTQ05LXfR"
   },
   "outputs": [],
   "source": [
    "train_images = train_images / 255.0\n",
    "\n",
    "test_images = test_images / 255.0"
   ]
  },
  {
   "cell_type": "code",
   "execution_count": 7,
   "metadata": {
    "ExecuteTime": {
     "end_time": "2018-12-23T17:03:52.164260Z",
     "start_time": "2018-12-23T17:03:52.162257Z"
    },
    "colab": {},
    "colab_type": "code",
    "id": "pAGZPee2LXfl"
   },
   "outputs": [],
   "source": [
    "# model = keras.Sequential([\n",
    "#     keras.layers.Flatten(input_shape=(28, 28)),\n",
    "#     keras.layers.Dense(128, activation=tf.nn.relu),\n",
    "#     keras.layers.Dense(10, activation=tf.nn.softmax)\n",
    "# ])"
   ]
  },
  {
   "cell_type": "code",
   "execution_count": 8,
   "metadata": {
    "ExecuteTime": {
     "end_time": "2018-12-23T17:03:52.181263Z",
     "start_time": "2018-12-23T17:03:52.166280Z"
    },
    "colab": {},
    "colab_type": "code",
    "id": "sn_q3MaALXfn"
   },
   "outputs": [],
   "source": [
    "train_images = train_images.reshape(train_images.shape[0], img_rows, img_cols, 1)\n",
    "test_images = test_images.reshape(test_images.shape[0], img_rows, img_cols, 1)\n",
    "input_shape = (img_rows, img_cols, 1)"
   ]
  },
  {
   "cell_type": "code",
   "execution_count": 9,
   "metadata": {
    "ExecuteTime": {
     "end_time": "2018-12-23T17:03:52.261255Z",
     "start_time": "2018-12-23T17:03:52.183257Z"
    },
    "colab": {},
    "colab_type": "code",
    "id": "u0VnLSOSLXfq"
   },
   "outputs": [],
   "source": [
    "model = keras.Sequential([\n",
    "    keras.layers.Conv2D(32, kernel_size=(3, 3), \n",
    "                        activation=tf.nn.relu, \n",
    "                        input_shape=input_shape,\n",
    "                        data_format='channels_last'),\n",
    "    keras.layers.Conv2D(64, (3, 3), activation=tf.nn.relu),\n",
    "    keras.layers.MaxPool2D(pool_size=(2, 2)),\n",
    "    keras.layers.Dropout(0.25),\n",
    "    keras.layers.Flatten(),\n",
    "    keras.layers.Dense(128, activation=tf.nn.relu),\n",
    "    keras.layers.Dropout(0.5),\n",
    "    keras.layers.Dense(10, activation=tf.nn.softmax)\n",
    "])"
   ]
  },
  {
   "cell_type": "code",
   "execution_count": 10,
   "metadata": {
    "ExecuteTime": {
     "end_time": "2018-12-23T17:03:52.318263Z",
     "start_time": "2018-12-23T17:03:52.262256Z"
    },
    "colab": {},
    "colab_type": "code",
    "id": "FJPyPB9ILXfu"
   },
   "outputs": [],
   "source": [
    "model.compile(optimizer=\"Adadelta\", \n",
    "              loss='sparse_categorical_crossentropy',\n",
    "              metrics=['accuracy'])"
   ]
  },
  {
   "cell_type": "code",
   "execution_count": 11,
   "metadata": {
    "ExecuteTime": {
     "end_time": "2018-12-23T17:03:52.323256Z",
     "start_time": "2018-12-23T17:03:52.319256Z"
    }
   },
   "outputs": [
    {
     "name": "stdout",
     "output_type": "stream",
     "text": [
      "_________________________________________________________________\n",
      "Layer (type)                 Output Shape              Param #   \n",
      "=================================================================\n",
      "conv2d (Conv2D)              (None, 26, 26, 32)        320       \n",
      "_________________________________________________________________\n",
      "conv2d_1 (Conv2D)            (None, 24, 24, 64)        18496     \n",
      "_________________________________________________________________\n",
      "max_pooling2d (MaxPooling2D) (None, 12, 12, 64)        0         \n",
      "_________________________________________________________________\n",
      "dropout (Dropout)            (None, 12, 12, 64)        0         \n",
      "_________________________________________________________________\n",
      "flatten (Flatten)            (None, 9216)              0         \n",
      "_________________________________________________________________\n",
      "dense (Dense)                (None, 128)               1179776   \n",
      "_________________________________________________________________\n",
      "dropout_1 (Dropout)          (None, 128)               0         \n",
      "_________________________________________________________________\n",
      "dense_1 (Dense)              (None, 10)                1290      \n",
      "=================================================================\n",
      "Total params: 1,199,882\n",
      "Trainable params: 1,199,882\n",
      "Non-trainable params: 0\n",
      "_________________________________________________________________\n"
     ]
    }
   ],
   "source": [
    "model.summary()"
   ]
  },
  {
   "cell_type": "code",
   "execution_count": 12,
   "metadata": {
    "ExecuteTime": {
     "end_time": "2018-12-23T17:03:52.330257Z",
     "start_time": "2018-12-23T17:03:52.324261Z"
    }
   },
   "outputs": [],
   "source": [
    "batch_size = 128\n",
    "epochs = 100"
   ]
  },
  {
   "cell_type": "code",
   "execution_count": 13,
   "metadata": {
    "ExecuteTime": {
     "end_time": "2018-12-23T17:03:53.710788Z",
     "start_time": "2018-12-23T17:03:52.331259Z"
    }
   },
   "outputs": [],
   "source": [
    "file_writer = tf.summary.FileWriter('logs', tf.keras.backend.get_session().graph)"
   ]
  },
  {
   "cell_type": "code",
   "execution_count": 14,
   "metadata": {
    "ExecuteTime": {
     "end_time": "2018-12-23T17:12:25.803503Z",
     "start_time": "2018-12-23T17:03:53.711788Z"
    },
    "colab": {
     "base_uri": "https://localhost:8080/",
     "height": 374
    },
    "colab_type": "code",
    "executionInfo": {
     "elapsed": 103205,
     "status": "ok",
     "timestamp": 1545486757676,
     "user": {
      "displayName": "Rheza Harliman",
      "photoUrl": "https://lh3.googleusercontent.com/-yOZuh0Bgl60/AAAAAAAAAAI/AAAAAAAAASU/VLuOVThaiNk/s64/photo.jpg",
      "userId": "13148716169817071942"
     },
     "user_tz": -540
    },
    "id": "5-fSe1GzLXfx",
    "outputId": "1f9504ff-e2f7-496c-c487-b41c3dc9fbed"
   },
   "outputs": [
    {
     "name": "stdout",
     "output_type": "stream",
     "text": [
      "Epoch 1/100\n",
      "60000/60000 [==============================] - 6s 102us/step - loss: 0.5628 - acc: 0.8017\n",
      "Epoch 2/100\n",
      "60000/60000 [==============================] - 5s 82us/step - loss: 0.3599 - acc: 0.8730\n",
      "Epoch 3/100\n",
      "60000/60000 [==============================] - 5s 82us/step - loss: 0.3118 - acc: 0.8885\n",
      "Epoch 4/100\n",
      "60000/60000 [==============================] - 5s 82us/step - loss: 0.2798 - acc: 0.9006\n",
      "Epoch 5/100\n",
      "60000/60000 [==============================] - 5s 82us/step - loss: 0.2553 - acc: 0.9084\n",
      "Epoch 6/100\n",
      "60000/60000 [==============================] - 5s 82us/step - loss: 0.2351 - acc: 0.9161\n",
      "Epoch 7/100\n",
      "60000/60000 [==============================] - 5s 82us/step - loss: 0.2186 - acc: 0.9210\n",
      "Epoch 8/100\n",
      "60000/60000 [==============================] - 5s 83us/step - loss: 0.2074 - acc: 0.9247\n",
      "Epoch 9/100\n",
      "60000/60000 [==============================] - 5s 82us/step - loss: 0.1980 - acc: 0.9293\n",
      "Epoch 10/100\n",
      "60000/60000 [==============================] - 5s 82us/step - loss: 0.1846 - acc: 0.9339\n",
      "Epoch 11/100\n",
      "60000/60000 [==============================] - 5s 82us/step - loss: 0.1764 - acc: 0.9353\n",
      "Epoch 12/100\n",
      "60000/60000 [==============================] - 5s 82us/step - loss: 0.1655 - acc: 0.9408\n",
      "Epoch 13/100\n",
      "60000/60000 [==============================] - 5s 82us/step - loss: 0.1582 - acc: 0.9424\n",
      "Epoch 14/100\n",
      "60000/60000 [==============================] - 5s 82us/step - loss: 0.1515 - acc: 0.9443\n",
      "Epoch 15/100\n",
      "60000/60000 [==============================] - 5s 85us/step - loss: 0.1469 - acc: 0.9467\n",
      "Epoch 16/100\n",
      "60000/60000 [==============================] - 5s 85us/step - loss: 0.1389 - acc: 0.9497\n",
      "Epoch 17/100\n",
      "60000/60000 [==============================] - ETA: 0s - loss: 0.1343 - acc: 0.951 - 5s 84us/step - loss: 0.1345 - acc: 0.9512\n",
      "Epoch 18/100\n",
      "60000/60000 [==============================] - 5s 84us/step - loss: 0.1297 - acc: 0.9527\n",
      "Epoch 19/100\n",
      "60000/60000 [==============================] - 5s 83us/step - loss: 0.1227 - acc: 0.9555\n",
      "Epoch 20/100\n",
      "60000/60000 [==============================] - 5s 84us/step - loss: 0.1193 - acc: 0.9565\n",
      "Epoch 21/100\n",
      "60000/60000 [==============================] - 5s 84us/step - loss: 0.1152 - acc: 0.9588\n",
      "Epoch 22/100\n",
      "60000/60000 [==============================] - 5s 86us/step - loss: 0.1109 - acc: 0.9601\n",
      "Epoch 23/100\n",
      "60000/60000 [==============================] - 5s 90us/step - loss: 0.1104 - acc: 0.9599\n",
      "Epoch 24/100\n",
      "60000/60000 [==============================] - 5s 89us/step - loss: 0.1068 - acc: 0.9613\n",
      "Epoch 25/100\n",
      "60000/60000 [==============================] - 6s 106us/step - loss: 0.1008 - acc: 0.9634\n",
      "Epoch 26/100\n",
      "60000/60000 [==============================] - 6s 97us/step - loss: 0.1030 - acc: 0.9635\n",
      "Epoch 27/100\n",
      "60000/60000 [==============================] - 6s 92us/step - loss: 0.0978 - acc: 0.9643: 0s - loss: 0\n",
      "Epoch 28/100\n",
      "60000/60000 [==============================] - 6s 97us/step - loss: 0.0966 - acc: 0.9652\n",
      "Epoch 29/100\n",
      "60000/60000 [==============================] - 6s 98us/step - loss: 0.0957 - acc: 0.9655\n",
      "Epoch 30/100\n",
      "60000/60000 [==============================] - 5s 83us/step - loss: 0.0909 - acc: 0.9680\n",
      "Epoch 31/100\n",
      "60000/60000 [==============================] - 5s 83us/step - loss: 0.0898 - acc: 0.9680\n",
      "Epoch 32/100\n",
      "60000/60000 [==============================] - 5s 83us/step - loss: 0.0888 - acc: 0.9683\n",
      "Epoch 33/100\n",
      "60000/60000 [==============================] - 5s 83us/step - loss: 0.0874 - acc: 0.9691\n",
      "Epoch 34/100\n",
      "60000/60000 [==============================] - 5s 86us/step - loss: 0.0858 - acc: 0.9689\n",
      "Epoch 35/100\n",
      "60000/60000 [==============================] - 5s 84us/step - loss: 0.0821 - acc: 0.9710\n",
      "Epoch 36/100\n",
      "60000/60000 [==============================] - 5s 85us/step - loss: 0.0827 - acc: 0.9699\n",
      "Epoch 37/100\n",
      "60000/60000 [==============================] - 5s 86us/step - loss: 0.0828 - acc: 0.9703\n",
      "Epoch 38/100\n",
      "60000/60000 [==============================] - 5s 84us/step - loss: 0.0787 - acc: 0.9728\n",
      "Epoch 39/100\n",
      "60000/60000 [==============================] - 5s 84us/step - loss: 0.0783 - acc: 0.9717\n",
      "Epoch 40/100\n",
      "60000/60000 [==============================] - 5s 84us/step - loss: 0.0781 - acc: 0.9721\n",
      "Epoch 41/100\n",
      "60000/60000 [==============================] - 5s 83us/step - loss: 0.0774 - acc: 0.9735\n",
      "Epoch 42/100\n",
      "60000/60000 [==============================] - 5s 83us/step - loss: 0.0765 - acc: 0.9734\n",
      "Epoch 43/100\n",
      "60000/60000 [==============================] - 5s 83us/step - loss: 0.0728 - acc: 0.9745\n",
      "Epoch 44/100\n",
      "60000/60000 [==============================] - 5s 83us/step - loss: 0.0744 - acc: 0.9740\n",
      "Epoch 45/100\n",
      "60000/60000 [==============================] - 5s 83us/step - loss: 0.0726 - acc: 0.9742\n",
      "Epoch 46/100\n",
      "60000/60000 [==============================] - 5s 83us/step - loss: 0.0731 - acc: 0.9741\n",
      "Epoch 47/100\n",
      "60000/60000 [==============================] - 5s 83us/step - loss: 0.0700 - acc: 0.9756\n",
      "Epoch 48/100\n",
      "60000/60000 [==============================] - 5s 83us/step - loss: 0.0709 - acc: 0.9748\n",
      "Epoch 49/100\n",
      "60000/60000 [==============================] - 5s 83us/step - loss: 0.0705 - acc: 0.9750\n",
      "Epoch 50/100\n",
      "60000/60000 [==============================] - 5s 84us/step - loss: 0.0687 - acc: 0.9761\n",
      "Epoch 51/100\n",
      "60000/60000 [==============================] - 5s 83us/step - loss: 0.0723 - acc: 0.9749\n",
      "Epoch 52/100\n",
      "60000/60000 [==============================] - 5s 83us/step - loss: 0.0684 - acc: 0.9754\n",
      "Epoch 53/100\n",
      "60000/60000 [==============================] - 5s 83us/step - loss: 0.0674 - acc: 0.9758\n",
      "Epoch 54/100\n",
      "60000/60000 [==============================] - 5s 83us/step - loss: 0.0661 - acc: 0.9770\n",
      "Epoch 55/100\n",
      "60000/60000 [==============================] - 5s 83us/step - loss: 0.0694 - acc: 0.9761\n",
      "Epoch 56/100\n",
      "60000/60000 [==============================] - 5s 83us/step - loss: 0.0660 - acc: 0.9783\n",
      "Epoch 57/100\n",
      "60000/60000 [==============================] - 5s 83us/step - loss: 0.0668 - acc: 0.9765\n",
      "Epoch 58/100\n",
      "60000/60000 [==============================] - 5s 84us/step - loss: 0.0627 - acc: 0.9778\n",
      "Epoch 59/100\n",
      "60000/60000 [==============================] - 5s 83us/step - loss: 0.0664 - acc: 0.9773\n",
      "Epoch 60/100\n",
      "60000/60000 [==============================] - 5s 83us/step - loss: 0.0642 - acc: 0.9775\n",
      "Epoch 61/100\n",
      "60000/60000 [==============================] - 5s 83us/step - loss: 0.0643 - acc: 0.9774\n",
      "Epoch 62/100\n",
      "60000/60000 [==============================] - 5s 83us/step - loss: 0.0677 - acc: 0.9765\n",
      "Epoch 63/100\n",
      "60000/60000 [==============================] - 5s 84us/step - loss: 0.0627 - acc: 0.9784\n",
      "Epoch 64/100\n",
      "60000/60000 [==============================] - 5s 84us/step - loss: 0.0635 - acc: 0.9783\n",
      "Epoch 65/100\n",
      "60000/60000 [==============================] - 5s 84us/step - loss: 0.0615 - acc: 0.9790\n",
      "Epoch 66/100\n",
      "60000/60000 [==============================] - 5s 84us/step - loss: 0.0621 - acc: 0.9787\n",
      "Epoch 67/100\n",
      "60000/60000 [==============================] - 5s 84us/step - loss: 0.0623 - acc: 0.9782\n",
      "Epoch 68/100\n",
      "60000/60000 [==============================] - ETA: 0s - loss: 0.0615 - acc: 0.979 - 5s 84us/step - loss: 0.0614 - acc: 0.9797\n",
      "Epoch 69/100\n",
      "60000/60000 [==============================] - 5s 84us/step - loss: 0.0614 - acc: 0.9789\n",
      "Epoch 70/100\n",
      "60000/60000 [==============================] - 5s 84us/step - loss: 0.0598 - acc: 0.9794\n",
      "Epoch 71/100\n",
      "60000/60000 [==============================] - 5s 84us/step - loss: 0.0608 - acc: 0.9788\n",
      "Epoch 72/100\n",
      "60000/60000 [==============================] - 5s 84us/step - loss: 0.0612 - acc: 0.9787\n",
      "Epoch 73/100\n",
      "60000/60000 [==============================] - 5s 84us/step - loss: 0.0603 - acc: 0.9802\n",
      "Epoch 74/100\n",
      "60000/60000 [==============================] - 5s 86us/step - loss: 0.0579 - acc: 0.9805\n",
      "Epoch 75/100\n",
      "60000/60000 [==============================] - 5s 88us/step - loss: 0.0600 - acc: 0.9796\n",
      "Epoch 76/100\n",
      "60000/60000 [==============================] - 5s 86us/step - loss: 0.0577 - acc: 0.9802\n",
      "Epoch 77/100\n",
      "60000/60000 [==============================] - 5s 86us/step - loss: 0.0599 - acc: 0.9782\n",
      "Epoch 78/100\n",
      "60000/60000 [==============================] - 5s 86us/step - loss: 0.0601 - acc: 0.9803\n",
      "Epoch 79/100\n",
      "60000/60000 [==============================] - 5s 85us/step - loss: 0.0563 - acc: 0.9798\n",
      "Epoch 80/100\n",
      "60000/60000 [==============================] - 5s 85us/step - loss: 0.0561 - acc: 0.9805\n",
      "Epoch 81/100\n",
      "60000/60000 [==============================] - 5s 86us/step - loss: 0.0592 - acc: 0.9801\n",
      "Epoch 82/100\n",
      "60000/60000 [==============================] - 5s 85us/step - loss: 0.0571 - acc: 0.9811\n",
      "Epoch 83/100\n",
      "60000/60000 [==============================] - 5s 85us/step - loss: 0.0591 - acc: 0.9808\n",
      "Epoch 84/100\n",
      "60000/60000 [==============================] - 5s 85us/step - loss: 0.0576 - acc: 0.9802\n",
      "Epoch 85/100\n",
      "60000/60000 [==============================] - 5s 86us/step - loss: 0.0602 - acc: 0.9796\n",
      "Epoch 86/100\n",
      "60000/60000 [==============================] - 5s 86us/step - loss: 0.0602 - acc: 0.9795\n",
      "Epoch 87/100\n",
      "60000/60000 [==============================] - 5s 86us/step - loss: 0.0560 - acc: 0.9810\n",
      "Epoch 88/100\n",
      "60000/60000 [==============================] - 5s 86us/step - loss: 0.0576 - acc: 0.9813\n",
      "Epoch 89/100\n",
      "60000/60000 [==============================] - 5s 86us/step - loss: 0.0537 - acc: 0.9816\n",
      "Epoch 90/100\n",
      "60000/60000 [==============================] - 5s 85us/step - loss: 0.0569 - acc: 0.9809\n",
      "Epoch 91/100\n",
      "60000/60000 [==============================] - 5s 88us/step - loss: 0.0543 - acc: 0.9818\n",
      "Epoch 92/100\n",
      "60000/60000 [==============================] - 5s 90us/step - loss: 0.0539 - acc: 0.9819\n",
      "Epoch 93/100\n",
      "60000/60000 [==============================] - 5s 91us/step - loss: 0.0587 - acc: 0.9802\n",
      "Epoch 94/100\n",
      "60000/60000 [==============================] - 5s 90us/step - loss: 0.0558 - acc: 0.9807\n",
      "Epoch 95/100\n",
      "60000/60000 [==============================] - 5s 89us/step - loss: 0.0577 - acc: 0.9807\n",
      "Epoch 96/100\n",
      "60000/60000 [==============================] - 5s 87us/step - loss: 0.0546 - acc: 0.9819\n",
      "Epoch 97/100\n",
      "60000/60000 [==============================] - 5s 85us/step - loss: 0.0555 - acc: 0.9812\n",
      "Epoch 98/100\n",
      "60000/60000 [==============================] - 5s 86us/step - loss: 0.0590 - acc: 0.9804\n",
      "Epoch 99/100\n",
      "60000/60000 [==============================] - 5s 85us/step - loss: 0.0574 - acc: 0.9813\n",
      "Epoch 100/100\n",
      "60000/60000 [==============================] - 5s 85us/step - loss: 0.0569 - acc: 0.9807\n"
     ]
    },
    {
     "data": {
      "text/plain": [
       "<tensorflow.python.keras.callbacks.History at 0x1eedf7796d8>"
      ]
     },
     "execution_count": 14,
     "metadata": {},
     "output_type": "execute_result"
    }
   ],
   "source": [
    "model.fit(train_images, train_labels, batch_size=batch_size, epochs=epochs)"
   ]
  },
  {
   "cell_type": "code",
   "execution_count": 15,
   "metadata": {
    "ExecuteTime": {
     "end_time": "2018-12-23T17:12:26.486611Z",
     "start_time": "2018-12-23T17:12:25.804505Z"
    },
    "colab": {
     "base_uri": "https://localhost:8080/",
     "height": 51
    },
    "colab_type": "code",
    "executionInfo": {
     "elapsed": 104292,
     "status": "ok",
     "timestamp": 1545486758771,
     "user": {
      "displayName": "Rheza Harliman",
      "photoUrl": "https://lh3.googleusercontent.com/-yOZuh0Bgl60/AAAAAAAAAAI/AAAAAAAAASU/VLuOVThaiNk/s64/photo.jpg",
      "userId": "13148716169817071942"
     },
     "user_tz": -540
    },
    "id": "jeYDBmzALXf1",
    "outputId": "9e69f18d-49c5-4bf9-c3db-2d9d2c287777"
   },
   "outputs": [
    {
     "name": "stdout",
     "output_type": "stream",
     "text": [
      "10000/10000 [==============================] - 1s 68us/step\n",
      "Test accuracy: 0.9324\n"
     ]
    }
   ],
   "source": [
    "test_loss, test_acc = model.evaluate(test_images, test_labels)\n",
    "\n",
    "print('Test accuracy:', test_acc)"
   ]
  },
  {
   "cell_type": "code",
   "execution_count": 16,
   "metadata": {
    "ExecuteTime": {
     "end_time": "2018-12-23T17:12:26.795424Z",
     "start_time": "2018-12-23T17:12:26.487502Z"
    }
   },
   "outputs": [],
   "source": [
    "# Save entire model to a HDF5 file\n",
    "model.save('fashion_mnist.h5')"
   ]
  }
 ],
 "metadata": {
  "accelerator": "GPU",
  "colab": {
   "name": "training_fashion_mnist.ipynb",
   "provenance": [],
   "version": "0.3.2"
  },
  "kernelspec": {
   "display_name": "Python 3",
   "language": "python",
   "name": "python3"
  },
  "language_info": {
   "codemirror_mode": {
    "name": "ipython",
    "version": 3
   },
   "file_extension": ".py",
   "mimetype": "text/x-python",
   "name": "python",
   "nbconvert_exporter": "python",
   "pygments_lexer": "ipython3",
   "version": "3.6.5"
  }
 },
 "nbformat": 4,
 "nbformat_minor": 1
}
